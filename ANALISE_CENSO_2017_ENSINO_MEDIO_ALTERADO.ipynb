{
 "cells": [
  {
   "cell_type": "code",
   "execution_count": 1,
   "metadata": {},
   "outputs": [],
   "source": [
    "import numpy as np\n",
    "import pandas as pd\n",
    "import matplotlib.pyplot as plt\n",
    "import dask.dataframe as dd\n",
    "from mlxtend.frequent_patterns import apriori\n",
    "from mlxtend.preprocessing import TransactionEncoder\n",
    "\n",
    "\n",
    "%matplotlib inline"
   ]
  },
  {
   "cell_type": "code",
   "execution_count": 2,
   "metadata": {},
   "outputs": [
    {
     "data": {
      "text/plain": [
       "dask.dataframe.core.DataFrame"
      ]
     },
     "execution_count": 2,
     "metadata": {},
     "output_type": "execute_result"
    }
   ],
   "source": [
    "#dc_dc = dd.read_csv('NORDESTE_NEW_.CSV', sep='|', dtype='object')\n",
    "dc = dd.read_csv('DADOS/DOCENTES_CO.CSV', sep='|', dtype='object')\n",
    "\n",
    "col_names = list(dc.columns.values)\n",
    "type(dc)"
   ]
  },
  {
   "cell_type": "code",
   "execution_count": 3,
   "metadata": {
    "scrolled": true
   },
   "outputs": [
    {
     "data": {
      "text/plain": [
       "['IN_DISC_QUIMICA',\n",
       " 'IN_DISC_FISICA',\n",
       " 'IN_DISC_MATEMATICA',\n",
       " 'IN_DISC_BIOLOGIA',\n",
       " 'IN_DISC_CIENCIAS',\n",
       " 'IN_DISC_LINGUA_PORTUGUESA',\n",
       " 'IN_DISC_LINGUA_INGLES',\n",
       " 'IN_DISC_LINGUA_ESPANHOL',\n",
       " 'IN_DISC_LINGUA_FRANCES',\n",
       " 'IN_DISC_LINGUA_OUTRA',\n",
       " 'IN_DISC_LINGUA_INDIGENA',\n",
       " 'IN_DISC_ARTES',\n",
       " 'IN_DISC_EDUCACAO_FISICA',\n",
       " 'IN_DISC_HISTORIA',\n",
       " 'IN_DISC_GEOGRAFIA',\n",
       " 'IN_DISC_FILOSOFIA',\n",
       " 'IN_DISC_ENSINO_RELIGIOSO',\n",
       " 'IN_DISC_ESTUDOS_SOCIAIS',\n",
       " 'IN_DISC_SOCIOLOGIA',\n",
       " 'IN_DISC_EST_SOCIAIS_SOCIOLOGIA',\n",
       " 'IN_DISC_INFORMATICA_COMPUTACAO',\n",
       " 'IN_DISC_PROFISSIONALIZANTE',\n",
       " 'IN_DISC_ATENDIMENTO_ESPECIAIS',\n",
       " 'IN_DISC_DIVER_SOCIO_CULTURAL',\n",
       " 'IN_DISC_LIBRAS',\n",
       " 'IN_DISC_PEDAGOGICAS',\n",
       " 'IN_DISC_OUTRAS',\n",
       " 'TP_TIPO_DOCENTE',\n",
       " 'TP_ETAPA_ENSINO',\n",
       " 'TP_DEPENDENCIA',\n",
       " 'TP_LOCALIZACAO']"
      ]
     },
     "execution_count": 3,
     "metadata": {},
     "output_type": "execute_result"
    }
   ],
   "source": [
    "# co = dc_co.groupby('TP_SEXO').CO_PESSOA_FISICA.nunique().head()\n",
    "# print('CO')\n",
    "# print('Sexo 1: ', co[0], 'Sexo 2: ', co[1])\n",
    "\n",
    "v_cols = ['NU_ANO_CENSO',\n",
    " 'CO_PESSOA_FISICA',\n",
    " 'NU_DIA',\n",
    " 'NU_MES',\n",
    " 'NU_ANO',\n",
    " 'NU_IDADE_REFERENCIA',\n",
    " 'NU_IDADE',\n",
    " 'TP_SEXO',\n",
    " 'TP_COR_RACA',\n",
    " 'TP_NACIONALIDADE',\n",
    " 'CO_PAIS_ORIGEM',\n",
    " 'CO_UF_NASC',\n",
    " 'CO_MUNICIPIO_NASC',\n",
    " 'CO_UF_END',\n",
    " 'CO_MUNICIPIO_END',\n",
    " 'IN_NECESSIDADE_ESPECIAL',\n",
    " 'IN_CEGUEIRA',\n",
    " 'IN_BAIXA_VISAO',\n",
    " 'IN_SURDEZ',\n",
    " 'IN_DEF_AUDITIVA',\n",
    " 'IN_SURDOCEGUEIRA',\n",
    " 'IN_DEF_FISICA',\n",
    " 'IN_DEF_INTELECTUAL',\n",
    " 'IN_DEF_MULTIPLA',\n",
    " 'TP_ESCOLARIDADE',\n",
    " 'TP_NORMAL_MAGISTERIO',\n",
    " 'TP_SITUACAO_CURSO_1',\n",
    " 'CO_AREA_CURSO_1',\n",
    " 'CO_CURSO_1',\n",
    " 'IN_LICENCIATURA_1',\n",
    " 'IN_COM_PEDAGOGICA_1',\n",
    " 'NU_ANO_INICIO_1',\n",
    " 'NU_ANO_CONCLUSAO_1',\n",
    " 'TP_TIPO_IES_1',\n",
    " 'CO_IES_1',\n",
    " 'TP_SITUACAO_CURSO_2',\n",
    " 'CO_AREA_CURSO_2',\n",
    " 'CO_CURSO_2',\n",
    " 'IN_LICENCIATURA_2',\n",
    " 'IN_COM_PEDAGOGICA_2',\n",
    " 'NU_ANO_INICIO_2',\n",
    " 'NU_ANO_CONCLUSAO_2',\n",
    " 'TP_TIPO_IES_2',\n",
    " 'CO_IES_2',\n",
    " 'TP_SITUACAO_CURSO_3',\n",
    " 'CO_AREA_CURSO_3',\n",
    " 'CO_CURSO_3',\n",
    " 'IN_LICENCIATURA_3',\n",
    " 'IN_COM_PEDAGOGICA_3',\n",
    " 'NU_ANO_INICIO_3',\n",
    " 'NU_ANO_CONCLUSAO_3',\n",
    " 'TP_TIPO_IES_3',\n",
    " 'CO_IES_3',\n",
    " 'IN_ESPECIALIZACAO',\n",
    " 'IN_MESTRADO',\n",
    " 'IN_DOUTORADO',\n",
    " 'IN_POS_NENHUM',\n",
    " 'IN_ESPECIFICO_CRECHE',\n",
    " 'IN_ESPECIFICO_PRE_ESCOLA',\n",
    " 'IN_ESPECIFICO_ANOS_INICIAIS',\n",
    " 'IN_ESPECIFICO_ANOS_FINAIS',\n",
    " 'IN_ESPECIFICO_ENS_MEDIO',\n",
    " 'IN_ESPECIFICO_EJA',\n",
    " 'IN_ESPECIFICO_ED_ESPECIAL',\n",
    " 'IN_ESPECIFICO_ED_INDIGENA',\n",
    " 'IN_ESPECIFICO_CAMPO',\n",
    " 'IN_ESPECIFICO_AMBIENTAL',\n",
    " 'IN_ESPECIFICO_DIR_HUMANOS',\n",
    " 'IN_ESPECIFICO_DIV_SEXUAL',\n",
    " 'IN_ESPECIFICO_DIR_ADOLESC',\n",
    " 'IN_ESPECIFICO_AFRO',\n",
    " 'IN_ESPECIFICO_OUTROS',\n",
    " 'IN_ESPECIFICO_NENHUM',\n",
    " 'TP_TIPO_CONTRATACAO',\n",
    " 'ID_TURMA',\n",
    " 'TP_TIPO_TURMA',\n",
    " 'TP_MEDIACAO_DIDATICO_PEDAGO',\n",
    " 'IN_ESPECIAL_EXCLUSIVA',\n",
    " 'IN_REGULAR',\n",
    " 'IN_EJA',\n",
    " 'IN_PROFISSIONALIZANTE',\n",
    " 'CO_CURSO_EDUC_PROFISSIONAL',\n",
    " 'CO_REGIAO',\n",
    " 'CO_MESORREGIAO',\n",
    " 'CO_MICRORREGIAO',\n",
    " 'CO_ENTIDADE',\n",
    " 'CO_UF',\n",
    " 'CO_MUNICIPIO',\n",
    " 'CO_DISTRITO',\n",
    " 'TP_ZONA_RESIDENCIAL',\n",
    " 'TP_CATEGORIA_ESCOLA_PRIVADA',\n",
    " 'IN_CONVENIADA_PP',\n",
    " 'TP_CONVENIO_PODER_PUBLICO',\n",
    " 'IN_MANT_ESCOLA_PRIVADA_EMP',\n",
    " 'IN_MANT_ESCOLA_PRIVADA_ONG',\n",
    " 'IN_MANT_ESCOLA_PRIVADA_SIND',\n",
    " 'IN_MANT_ESCOLA_PRIVADA_SIST_S',\n",
    " 'IN_MANT_ESCOLA_PRIVADA_S_FINS',\n",
    " 'TP_REGULAMENTACAO',\n",
    " 'TP_LOCALIZACAO_DIFERENCIADA',\n",
    " 'IN_EDUCACAO_INDIGENA']\n",
    "\n",
    "dc_co = dc.drop(v_cols, axis=1).compute()\n",
    "\n",
    "\n",
    "dc_co.columns.tolist()\n",
    "#ne = dc_ne.compute()\n",
    "\n",
    "#u_cols=[0,1,2,3,4,5,6,7,8,9,10]\n",
    "\n",
    "#ne = dc_ne.compute\n",
    "\n",
    "\n",
    "#dc_co = dc_co.drop(dc_co.columns[u_cols], axis=1)\n",
    "\n",
    "#col_names = list(dc_co.columns.values)\n",
    "\n",
    "#col_names\n"
   ]
  },
  {
   "cell_type": "code",
   "execution_count": 4,
   "metadata": {},
   "outputs": [
    {
     "data": {
      "text/plain": [
       "905327"
      ]
     },
     "execution_count": 4,
     "metadata": {},
     "output_type": "execute_result"
    }
   ],
   "source": [
    "#Preenche as células NaN com 0 (zero)\n",
    "dc_co = dc_co.fillna(0)\n",
    "dc_co.shape[0]"
   ]
  },
  {
   "cell_type": "code",
   "execution_count": 5,
   "metadata": {
    "scrolled": true
   },
   "outputs": [
    {
     "name": "stderr",
     "output_type": "stream",
     "text": [
      "/home/zuno/.local/lib/python3.5/site-packages/ipykernel_launcher.py:2: FutureWarning: convert_objects is deprecated.  To re-infer data dtypes for object columns, use DataFrame.infer_objects()\n",
      "For all other conversions use the data-type specific converters pd.to_datetime, pd.to_timedelta and pd.to_numeric.\n",
      "  \n"
     ]
    }
   ],
   "source": [
    "#converte os Dados de object para Numeric\n",
    "dc_co = dc_co.convert_objects(convert_numeric=True)"
   ]
  },
  {
   "cell_type": "code",
   "execution_count": 6,
   "metadata": {},
   "outputs": [],
   "source": [
    "#lst é a lista que contém as etapas do Ensino Médio\n",
    "lst=[25,26,27,28,29,30,31,32,33,34,35,36,37,38]\n",
    "dc_co['TP_ETAPA_ENSINO'] = dc_co['TP_ETAPA_ENSINO'].astype(float)\n",
    "\n",
    "#elimina todas as linhas de docentes que não atuam no Ensino Médio\n",
    "dc_co = dc_co[dc_co.TP_ETAPA_ENSINO.isin(lst)]"
   ]
  },
  {
   "cell_type": "code",
   "execution_count": 7,
   "metadata": {},
   "outputs": [],
   "source": [
    "#lst contém os professores que estão atuando em sala de aula\n",
    "lst=[1]\n",
    "dc_co['TP_TIPO_DOCENTE'] = dc_co['TP_TIPO_DOCENTE'].astype(float)\n",
    "\n",
    "#Elimina as linhas dos professores que nao estão atuando em sala de aula\n",
    "dc_co = dc_co[dc_co.TP_TIPO_DOCENTE.isin(lst)]"
   ]
  },
  {
   "cell_type": "code",
   "execution_count": 8,
   "metadata": {},
   "outputs": [],
   "source": [
    "#lst contém as dependências estaduais e municipais\n",
    "lst=[2,3]\n",
    "dc_co['TP_DEPENDENCIA'] = dc_co['TP_DEPENDENCIA'].astype(float)\n",
    "dc_co = dc_co[dc_co.TP_DEPENDENCIA.isin(lst)]"
   ]
  },
  {
   "cell_type": "code",
   "execution_count": 9,
   "metadata": {},
   "outputs": [],
   "source": [
    "#lst contém os docentes da zona urbana\n",
    "lst=[1]\n",
    "dc_co['TP_LOCALIZACAO'] = dc_co['TP_LOCALIZACAO'].astype(float)\n",
    "urbana = dc_co[dc_co.TP_LOCALIZACAO.isin(lst)]\n",
    "\n",
    "\n",
    "#lst contém os docentes da zona rural\n",
    "lst=[2]\n",
    "dc_co['TP_LOCALIZACAO'] = dc_co['TP_LOCALIZACAO'].astype(float)\n",
    "rural = dc_co[dc_co.TP_LOCALIZACAO.isin(lst)]\n"
   ]
  },
  {
   "cell_type": "code",
   "execution_count": 10,
   "metadata": {},
   "outputs": [
    {
     "data": {
      "text/plain": [
       "199659"
      ]
     },
     "execution_count": 10,
     "metadata": {},
     "output_type": "execute_result"
    }
   ],
   "source": [
    "dc_co.shape[0]"
   ]
  },
  {
   "cell_type": "code",
   "execution_count": 11,
   "metadata": {
    "scrolled": true
   },
   "outputs": [
    {
     "data": {
      "text/plain": [
       "['IN_DISC_QUIMICA',\n",
       " 'IN_DISC_FISICA',\n",
       " 'IN_DISC_MATEMATICA',\n",
       " 'IN_DISC_BIOLOGIA',\n",
       " 'IN_DISC_CIENCIAS',\n",
       " 'IN_DISC_LINGUA_PORTUGUESA',\n",
       " 'IN_DISC_LINGUA_INGLES',\n",
       " 'IN_DISC_LINGUA_ESPANHOL',\n",
       " 'IN_DISC_LINGUA_FRANCES',\n",
       " 'IN_DISC_LINGUA_OUTRA',\n",
       " 'IN_DISC_LINGUA_INDIGENA',\n",
       " 'IN_DISC_ARTES',\n",
       " 'IN_DISC_EDUCACAO_FISICA',\n",
       " 'IN_DISC_HISTORIA',\n",
       " 'IN_DISC_GEOGRAFIA',\n",
       " 'IN_DISC_FILOSOFIA',\n",
       " 'IN_DISC_ENSINO_RELIGIOSO',\n",
       " 'IN_DISC_ESTUDOS_SOCIAIS',\n",
       " 'IN_DISC_SOCIOLOGIA',\n",
       " 'IN_DISC_EST_SOCIAIS_SOCIOLOGIA',\n",
       " 'IN_DISC_INFORMATICA_COMPUTACAO',\n",
       " 'IN_DISC_PROFISSIONALIZANTE',\n",
       " 'IN_DISC_ATENDIMENTO_ESPECIAIS',\n",
       " 'IN_DISC_DIVER_SOCIO_CULTURAL',\n",
       " 'IN_DISC_LIBRAS',\n",
       " 'IN_DISC_PEDAGOGICAS',\n",
       " 'IN_DISC_OUTRAS',\n",
       " 'TP_TIPO_DOCENTE',\n",
       " 'TP_ETAPA_ENSINO',\n",
       " 'TP_DEPENDENCIA',\n",
       " 'TP_LOCALIZACAO']"
      ]
     },
     "execution_count": 11,
     "metadata": {},
     "output_type": "execute_result"
    }
   ],
   "source": [
    "raw = dc_co\n",
    "dc_co.columns.tolist()"
   ]
  },
  {
   "cell_type": "code",
   "execution_count": null,
   "metadata": {},
   "outputs": [],
   "source": []
  },
  {
   "cell_type": "code",
   "execution_count": 12,
   "metadata": {
    "scrolled": true
   },
   "outputs": [
    {
     "data": {
      "text/plain": [
       "['IN_DISC_QUIMICA',\n",
       " 'IN_DISC_FISICA',\n",
       " 'IN_DISC_MATEMATICA',\n",
       " 'IN_DISC_BIOLOGIA',\n",
       " 'IN_DISC_CIENCIAS',\n",
       " 'IN_DISC_LINGUA_PORTUGUESA',\n",
       " 'IN_DISC_LINGUA_INGLES',\n",
       " 'IN_DISC_LINGUA_ESPANHOL',\n",
       " 'IN_DISC_LINGUA_FRANCES',\n",
       " 'IN_DISC_LINGUA_OUTRA',\n",
       " 'IN_DISC_LINGUA_INDIGENA',\n",
       " 'IN_DISC_ARTES',\n",
       " 'IN_DISC_EDUCACAO_FISICA',\n",
       " 'IN_DISC_HISTORIA',\n",
       " 'IN_DISC_GEOGRAFIA',\n",
       " 'IN_DISC_FILOSOFIA',\n",
       " 'IN_DISC_ENSINO_RELIGIOSO',\n",
       " 'IN_DISC_ESTUDOS_SOCIAIS',\n",
       " 'IN_DISC_SOCIOLOGIA',\n",
       " 'IN_DISC_EST_SOCIAIS_SOCIOLOGIA',\n",
       " 'IN_DISC_INFORMATICA_COMPUTACAO',\n",
       " 'IN_DISC_PROFISSIONALIZANTE',\n",
       " 'IN_DISC_ATENDIMENTO_ESPECIAIS',\n",
       " 'IN_DISC_DIVER_SOCIO_CULTURAL',\n",
       " 'IN_DISC_LIBRAS',\n",
       " 'IN_DISC_PEDAGOGICAS',\n",
       " 'IN_DISC_OUTRAS']"
      ]
     },
     "execution_count": 12,
     "metadata": {},
     "output_type": "execute_result"
    }
   ],
   "source": [
    "#Após a filtragem por etapa e dependencia da escola, deixar apenas as infos das disciplinas\n",
    "#remover tbm a coluna IN_DISC_EST_SOCIAIS_SOCIOLOGIA, pq ela é redundante com \n",
    "##dc_co = raw \n",
    "u_cols=[27,28,29,30]\n",
    "\n",
    "\n",
    "dc_co = dc_co.drop(dc_co.columns[u_cols], axis=1)\n",
    "urbana = urbana.drop(urbana.columns[u_cols], axis=1)\n",
    "rural = rural.drop(rural.columns[u_cols], axis=1)\n",
    "\n",
    "dc_co.head()\n",
    "\n",
    "dc_co.columns.tolist()"
   ]
  },
  {
   "cell_type": "code",
   "execution_count": 15,
   "metadata": {},
   "outputs": [],
   "source": [
    "urbana['total'] = urbana.sum(axis=1) "
   ]
  },
  {
   "cell_type": "code",
   "execution_count": 16,
   "metadata": {},
   "outputs": [
    {
     "data": {
      "text/plain": [
       "2     150709\n",
       "4      26134\n",
       "6       7803\n",
       "8       2069\n",
       "10       455\n",
       "12       126\n",
       "14        47\n",
       "16        19\n",
       "18         6\n",
       "28         4\n",
       "26         4\n",
       "24         4\n",
       "20         3\n",
       "22         2\n",
       "Name: total, dtype: int64"
      ]
     },
     "execution_count": 16,
     "metadata": {},
     "output_type": "execute_result"
    }
   ],
   "source": [
    "urbana.total.value_counts()"
   ]
  },
  {
   "cell_type": "code",
   "execution_count": 18,
   "metadata": {},
   "outputs": [
    {
     "data": {
      "text/plain": [
       "2     150709\n",
       "4      26134\n",
       "6       7803\n",
       "8       2069\n",
       "10       455\n",
       "12       126\n",
       "14        47\n",
       "16        19\n",
       "18         6\n",
       "28         4\n",
       "26         4\n",
       "24         4\n",
       "20         3\n",
       "22         2\n",
       "Name: total, dtype: int64"
      ]
     },
     "execution_count": 18,
     "metadata": {},
     "output_type": "execute_result"
    }
   ],
   "source": [
    "urbana = urbana[urbana['total'].isin([1]) == False]\n",
    "urbana.total.value_counts()"
   ]
  },
  {
   "cell_type": "code",
   "execution_count": 20,
   "metadata": {},
   "outputs": [],
   "source": [
    "u = urbana\n",
    "urbana = urbana.drop('total',1)"
   ]
  },
  {
   "cell_type": "code",
   "execution_count": 33,
   "metadata": {
    "scrolled": true
   },
   "outputs": [
    {
     "data": {
      "text/html": [
       "<div>\n",
       "<style scoped>\n",
       "    .dataframe tbody tr th:only-of-type {\n",
       "        vertical-align: middle;\n",
       "    }\n",
       "\n",
       "    .dataframe tbody tr th {\n",
       "        vertical-align: top;\n",
       "    }\n",
       "\n",
       "    .dataframe thead th {\n",
       "        text-align: right;\n",
       "    }\n",
       "</style>\n",
       "<table border=\"1\" class=\"dataframe\">\n",
       "  <thead>\n",
       "    <tr style=\"text-align: right;\">\n",
       "      <th></th>\n",
       "      <th>IN_DISC_QUIMICA</th>\n",
       "      <th>IN_DISC_FISICA</th>\n",
       "      <th>IN_DISC_MATEMATICA</th>\n",
       "      <th>IN_DISC_BIOLOGIA</th>\n",
       "      <th>IN_DISC_CIENCIAS</th>\n",
       "      <th>IN_DISC_LINGUA_PORTUGUESA</th>\n",
       "      <th>IN_DISC_LINGUA_INGLES</th>\n",
       "      <th>IN_DISC_LINGUA_ESPANHOL</th>\n",
       "      <th>IN_DISC_LINGUA_FRANCES</th>\n",
       "      <th>IN_DISC_LINGUA_OUTRA</th>\n",
       "      <th>...</th>\n",
       "      <th>IN_DISC_ESTUDOS_SOCIAIS</th>\n",
       "      <th>IN_DISC_SOCIOLOGIA</th>\n",
       "      <th>IN_DISC_EST_SOCIAIS_SOCIOLOGIA</th>\n",
       "      <th>IN_DISC_INFORMATICA_COMPUTACAO</th>\n",
       "      <th>IN_DISC_PROFISSIONALIZANTE</th>\n",
       "      <th>IN_DISC_ATENDIMENTO_ESPECIAIS</th>\n",
       "      <th>IN_DISC_DIVER_SOCIO_CULTURAL</th>\n",
       "      <th>IN_DISC_LIBRAS</th>\n",
       "      <th>IN_DISC_PEDAGOGICAS</th>\n",
       "      <th>IN_DISC_OUTRAS</th>\n",
       "    </tr>\n",
       "  </thead>\n",
       "  <tbody>\n",
       "    <tr>\n",
       "      <th>11</th>\n",
       "      <td>0</td>\n",
       "      <td>0</td>\n",
       "      <td>0</td>\n",
       "      <td>0</td>\n",
       "      <td>0</td>\n",
       "      <td>0</td>\n",
       "      <td>0</td>\n",
       "      <td>0</td>\n",
       "      <td>0</td>\n",
       "      <td>0</td>\n",
       "      <td>...</td>\n",
       "      <td>0</td>\n",
       "      <td>0</td>\n",
       "      <td>0</td>\n",
       "      <td>0</td>\n",
       "      <td>0</td>\n",
       "      <td>0</td>\n",
       "      <td>0</td>\n",
       "      <td>0</td>\n",
       "      <td>0</td>\n",
       "      <td>0</td>\n",
       "    </tr>\n",
       "    <tr>\n",
       "      <th>12</th>\n",
       "      <td>0</td>\n",
       "      <td>0</td>\n",
       "      <td>0</td>\n",
       "      <td>0</td>\n",
       "      <td>0</td>\n",
       "      <td>0</td>\n",
       "      <td>0</td>\n",
       "      <td>0</td>\n",
       "      <td>0</td>\n",
       "      <td>0</td>\n",
       "      <td>...</td>\n",
       "      <td>0</td>\n",
       "      <td>0</td>\n",
       "      <td>0</td>\n",
       "      <td>0</td>\n",
       "      <td>0</td>\n",
       "      <td>0</td>\n",
       "      <td>0</td>\n",
       "      <td>0</td>\n",
       "      <td>0</td>\n",
       "      <td>0</td>\n",
       "    </tr>\n",
       "    <tr>\n",
       "      <th>13</th>\n",
       "      <td>0</td>\n",
       "      <td>0</td>\n",
       "      <td>0</td>\n",
       "      <td>0</td>\n",
       "      <td>0</td>\n",
       "      <td>0</td>\n",
       "      <td>0</td>\n",
       "      <td>0</td>\n",
       "      <td>0</td>\n",
       "      <td>0</td>\n",
       "      <td>...</td>\n",
       "      <td>0</td>\n",
       "      <td>0</td>\n",
       "      <td>0</td>\n",
       "      <td>0</td>\n",
       "      <td>0</td>\n",
       "      <td>0</td>\n",
       "      <td>0</td>\n",
       "      <td>0</td>\n",
       "      <td>0</td>\n",
       "      <td>0</td>\n",
       "    </tr>\n",
       "    <tr>\n",
       "      <th>14</th>\n",
       "      <td>0</td>\n",
       "      <td>0</td>\n",
       "      <td>0</td>\n",
       "      <td>0</td>\n",
       "      <td>0</td>\n",
       "      <td>0</td>\n",
       "      <td>0</td>\n",
       "      <td>0</td>\n",
       "      <td>0</td>\n",
       "      <td>0</td>\n",
       "      <td>...</td>\n",
       "      <td>0</td>\n",
       "      <td>0</td>\n",
       "      <td>0</td>\n",
       "      <td>0</td>\n",
       "      <td>0</td>\n",
       "      <td>0</td>\n",
       "      <td>0</td>\n",
       "      <td>0</td>\n",
       "      <td>0</td>\n",
       "      <td>0</td>\n",
       "    </tr>\n",
       "    <tr>\n",
       "      <th>15</th>\n",
       "      <td>0</td>\n",
       "      <td>0</td>\n",
       "      <td>0</td>\n",
       "      <td>0</td>\n",
       "      <td>0</td>\n",
       "      <td>0</td>\n",
       "      <td>0</td>\n",
       "      <td>0</td>\n",
       "      <td>0</td>\n",
       "      <td>0</td>\n",
       "      <td>...</td>\n",
       "      <td>0</td>\n",
       "      <td>0</td>\n",
       "      <td>0</td>\n",
       "      <td>0</td>\n",
       "      <td>0</td>\n",
       "      <td>0</td>\n",
       "      <td>0</td>\n",
       "      <td>0</td>\n",
       "      <td>0</td>\n",
       "      <td>0</td>\n",
       "    </tr>\n",
       "  </tbody>\n",
       "</table>\n",
       "<p>5 rows × 27 columns</p>\n",
       "</div>"
      ],
      "text/plain": [
       "    IN_DISC_QUIMICA  IN_DISC_FISICA  IN_DISC_MATEMATICA  IN_DISC_BIOLOGIA  \\\n",
       "11                0               0                   0                 0   \n",
       "12                0               0                   0                 0   \n",
       "13                0               0                   0                 0   \n",
       "14                0               0                   0                 0   \n",
       "15                0               0                   0                 0   \n",
       "\n",
       "    IN_DISC_CIENCIAS  IN_DISC_LINGUA_PORTUGUESA  IN_DISC_LINGUA_INGLES  \\\n",
       "11                 0                          0                      0   \n",
       "12                 0                          0                      0   \n",
       "13                 0                          0                      0   \n",
       "14                 0                          0                      0   \n",
       "15                 0                          0                      0   \n",
       "\n",
       "    IN_DISC_LINGUA_ESPANHOL  IN_DISC_LINGUA_FRANCES  IN_DISC_LINGUA_OUTRA  \\\n",
       "11                        0                       0                     0   \n",
       "12                        0                       0                     0   \n",
       "13                        0                       0                     0   \n",
       "14                        0                       0                     0   \n",
       "15                        0                       0                     0   \n",
       "\n",
       "         ...        IN_DISC_ESTUDOS_SOCIAIS  IN_DISC_SOCIOLOGIA  \\\n",
       "11       ...                              0                   0   \n",
       "12       ...                              0                   0   \n",
       "13       ...                              0                   0   \n",
       "14       ...                              0                   0   \n",
       "15       ...                              0                   0   \n",
       "\n",
       "    IN_DISC_EST_SOCIAIS_SOCIOLOGIA  IN_DISC_INFORMATICA_COMPUTACAO  \\\n",
       "11                               0                               0   \n",
       "12                               0                               0   \n",
       "13                               0                               0   \n",
       "14                               0                               0   \n",
       "15                               0                               0   \n",
       "\n",
       "    IN_DISC_PROFISSIONALIZANTE  IN_DISC_ATENDIMENTO_ESPECIAIS  \\\n",
       "11                           0                              0   \n",
       "12                           0                              0   \n",
       "13                           0                              0   \n",
       "14                           0                              0   \n",
       "15                           0                              0   \n",
       "\n",
       "    IN_DISC_DIVER_SOCIO_CULTURAL  IN_DISC_LIBRAS  IN_DISC_PEDAGOGICAS  \\\n",
       "11                             0               0                    0   \n",
       "12                             0               0                    0   \n",
       "13                             0               0                    0   \n",
       "14                             0               0                    0   \n",
       "15                             0               0                    0   \n",
       "\n",
       "    IN_DISC_OUTRAS  \n",
       "11               0  \n",
       "12               0  \n",
       "13               0  \n",
       "14               0  \n",
       "15               0  \n",
       "\n",
       "[5 rows x 27 columns]"
      ]
     },
     "execution_count": 33,
     "metadata": {},
     "output_type": "execute_result"
    }
   ],
   "source": [
    "urbana.head(5)"
   ]
  },
  {
   "cell_type": "code",
   "execution_count": 34,
   "metadata": {},
   "outputs": [],
   "source": [
    "result = apriori(urbana, min_support=0.01, use_colnames=True)"
   ]
  },
  {
   "cell_type": "code",
   "execution_count": 35,
   "metadata": {
    "scrolled": false
   },
   "outputs": [],
   "source": [
    "result = result.sort_values(by=\"support\", ascending=False)\n",
    "result.to_csv('RESULTADOS/RES_CO_URBANA', sep='\\t')"
   ]
  },
  {
   "cell_type": "code",
   "execution_count": null,
   "metadata": {},
   "outputs": [],
   "source": [
    "result = apriori(rural, min_support=0.01, use_colnames=True)"
   ]
  },
  {
   "cell_type": "code",
   "execution_count": null,
   "metadata": {},
   "outputs": [],
   "source": [
    "result = result.sort_values(by=\"support\", ascending=False)\n",
    "result.to_csv('RESULTADOS/RES_CO_RURAL', sep='\\t')"
   ]
  }
 ],
 "metadata": {
  "anaconda-cloud": {},
  "celltoolbar": "Raw Cell Format",
  "kernelspec": {
   "display_name": "Python 3",
   "language": "python",
   "name": "python3"
  },
  "language_info": {
   "codemirror_mode": {
    "name": "ipython",
    "version": 3
   },
   "file_extension": ".py",
   "mimetype": "text/x-python",
   "name": "python",
   "nbconvert_exporter": "python",
   "pygments_lexer": "ipython3",
   "version": "3.5.2"
  }
 },
 "nbformat": 4,
 "nbformat_minor": 1
}
